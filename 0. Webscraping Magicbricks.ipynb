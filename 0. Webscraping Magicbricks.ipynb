{
 "cells": [
  {
   "cell_type": "markdown",
   "id": "10a5eb0b",
   "metadata": {},
   "source": [
    "## Data Gathering\n",
    "\n",
    "-- Collecting the data through webscraping from magicbricks website"
   ]
  },
  {
   "cell_type": "markdown",
   "id": "946e4f75",
   "metadata": {},
   "source": [
    "#### Importing the Required Libraries"
   ]
  },
  {
   "cell_type": "code",
   "execution_count": null,
   "id": "06140691",
   "metadata": {},
   "outputs": [],
   "source": [
    "#pip install selenium\n",
    "\n",
    "from selenium import webdriver\n",
    "from selenium.webdriver.common.by import By\n",
    "\n",
    "import pandas as pd\n",
    "import numpy as np\n",
    "import requests\n",
    "from bs4 import BeautifulSoup as bs\n",
    "import time\n",
    "\n",
    "path='/Users/Sumit/Downloads/chromedriver'"
   ]
  },
  {
   "cell_type": "markdown",
   "id": "0e6a9bc8",
   "metadata": {},
   "source": [
    "#### Website link through which data has to be downloaded"
   ]
  },
  {
   "cell_type": "code",
   "execution_count": 408,
   "id": "3d818136",
   "metadata": {},
   "outputs": [],
   "source": [
    "link=\"https://www.magicbricks.com/property-for-sale/residential-real-estate?bedroom=1,2,3,4,5,%3E5&proptype=Multistorey-Apartment,Builder-Floor-Apartment,Penthouse,Studio-Apartment,Residential-House,Villa&cityName=Pune\""
   ]
  },
  {
   "cell_type": "markdown",
   "id": "8ee43b88",
   "metadata": {},
   "source": [
    "#### Scrolling through the complete content of the website"
   ]
  },
  {
   "cell_type": "code",
   "execution_count": 409,
   "id": "8d4403cb",
   "metadata": {},
   "outputs": [],
   "source": [
    "driver = webdriver.Chrome()\n",
    "driver.get(link)"
   ]
  },
  {
   "cell_type": "code",
   "execution_count": 562,
   "id": "c383e008",
   "metadata": {},
   "outputs": [
    {
     "ename": "TimeoutException",
     "evalue": "Message: script timeout\n  (Session info: chrome=119.0.6045.159)\nStacktrace:\n0   chromedriver                        0x000000010bb88d28 chromedriver + 4795688\n1   chromedriver                        0x000000010bb802b3 chromedriver + 4760243\n2   chromedriver                        0x000000010b7596bd chromedriver + 407229\n3   chromedriver                        0x000000010b7ec64c chromedriver + 1009228\n4   chromedriver                        0x000000010b7cfca2 chromedriver + 892066\n5   chromedriver                        0x000000010b7ebb2b chromedriver + 1006379\n6   chromedriver                        0x000000010b7cfa73 chromedriver + 891507\n7   chromedriver                        0x000000010b79a143 chromedriver + 672067\n8   chromedriver                        0x000000010b79b31e chromedriver + 676638\n9   chromedriver                        0x000000010bb49795 chromedriver + 4536213\n10  chromedriver                        0x000000010bb4e853 chromedriver + 4556883\n11  chromedriver                        0x000000010bb2f001 chromedriver + 4427777\n12  chromedriver                        0x000000010bb4f59d chromedriver + 4560285\n13  chromedriver                        0x000000010bb2048c chromedriver + 4367500\n14  chromedriver                        0x000000010bb6f0e8 chromedriver + 4690152\n15  chromedriver                        0x000000010bb6f29e chromedriver + 4690590\n16  chromedriver                        0x000000010bb7feee chromedriver + 4759278\n17  libsystem_pthread.dylib             0x00007ff81c51c4e1 _pthread_start + 125\n18  libsystem_pthread.dylib             0x00007ff81c517f6b thread_start + 15\n",
     "output_type": "error",
     "traceback": [
      "\u001b[0;31m---------------------------------------------------------------------------\u001b[0m",
      "\u001b[0;31mTimeoutException\u001b[0m                          Traceback (most recent call last)",
      "Cell \u001b[0;32mIn[562], line 8\u001b[0m\n\u001b[1;32m      6\u001b[0m driver\u001b[38;5;241m.\u001b[39mexecute_script(\u001b[38;5;124m\"\u001b[39m\u001b[38;5;124mwindow.scrollTo(0, document.body.scrollHeight);\u001b[39m\u001b[38;5;124m\"\u001b[39m)\n\u001b[1;32m      7\u001b[0m time\u001b[38;5;241m.\u001b[39msleep(\u001b[38;5;241m5\u001b[39m)  \u001b[38;5;66;03m# give some time for new results to load\u001b[39;00m\n\u001b[0;32m----> 8\u001b[0m new_height \u001b[38;5;241m=\u001b[39m \u001b[43mdriver\u001b[49m\u001b[38;5;241;43m.\u001b[39;49m\u001b[43mexecute_script\u001b[49m\u001b[43m(\u001b[49m\u001b[38;5;124;43m\"\u001b[39;49m\u001b[38;5;124;43mreturn document.body.scrollHeight\u001b[39;49m\u001b[38;5;124;43m\"\u001b[39;49m\u001b[43m)\u001b[49m\n\u001b[1;32m      9\u001b[0m \u001b[38;5;28;01mif\u001b[39;00m new_height \u001b[38;5;241m==\u001b[39m prev_height:\n\u001b[1;32m     10\u001b[0m     \u001b[38;5;28;01mbreak\u001b[39;00m\n",
      "File \u001b[0;32m~/anaconda3/lib/python3.10/site-packages/selenium/webdriver/remote/webdriver.py:407\u001b[0m, in \u001b[0;36mWebDriver.execute_script\u001b[0;34m(self, script, *args)\u001b[0m\n\u001b[1;32m    404\u001b[0m converted_args \u001b[38;5;241m=\u001b[39m \u001b[38;5;28mlist\u001b[39m(args)\n\u001b[1;32m    405\u001b[0m command \u001b[38;5;241m=\u001b[39m Command\u001b[38;5;241m.\u001b[39mW3C_EXECUTE_SCRIPT\n\u001b[0;32m--> 407\u001b[0m \u001b[38;5;28;01mreturn\u001b[39;00m \u001b[38;5;28;43mself\u001b[39;49m\u001b[38;5;241;43m.\u001b[39;49m\u001b[43mexecute\u001b[49m\u001b[43m(\u001b[49m\u001b[43mcommand\u001b[49m\u001b[43m,\u001b[49m\u001b[43m \u001b[49m\u001b[43m{\u001b[49m\u001b[38;5;124;43m\"\u001b[39;49m\u001b[38;5;124;43mscript\u001b[39;49m\u001b[38;5;124;43m\"\u001b[39;49m\u001b[43m:\u001b[49m\u001b[43m \u001b[49m\u001b[43mscript\u001b[49m\u001b[43m,\u001b[49m\u001b[43m \u001b[49m\u001b[38;5;124;43m\"\u001b[39;49m\u001b[38;5;124;43margs\u001b[39;49m\u001b[38;5;124;43m\"\u001b[39;49m\u001b[43m:\u001b[49m\u001b[43m \u001b[49m\u001b[43mconverted_args\u001b[49m\u001b[43m}\u001b[49m\u001b[43m)\u001b[49m[\u001b[38;5;124m\"\u001b[39m\u001b[38;5;124mvalue\u001b[39m\u001b[38;5;124m\"\u001b[39m]\n",
      "File \u001b[0;32m~/anaconda3/lib/python3.10/site-packages/selenium/webdriver/remote/webdriver.py:347\u001b[0m, in \u001b[0;36mWebDriver.execute\u001b[0;34m(self, driver_command, params)\u001b[0m\n\u001b[1;32m    345\u001b[0m response \u001b[38;5;241m=\u001b[39m \u001b[38;5;28mself\u001b[39m\u001b[38;5;241m.\u001b[39mcommand_executor\u001b[38;5;241m.\u001b[39mexecute(driver_command, params)\n\u001b[1;32m    346\u001b[0m \u001b[38;5;28;01mif\u001b[39;00m response:\n\u001b[0;32m--> 347\u001b[0m     \u001b[38;5;28;43mself\u001b[39;49m\u001b[38;5;241;43m.\u001b[39;49m\u001b[43merror_handler\u001b[49m\u001b[38;5;241;43m.\u001b[39;49m\u001b[43mcheck_response\u001b[49m\u001b[43m(\u001b[49m\u001b[43mresponse\u001b[49m\u001b[43m)\u001b[49m\n\u001b[1;32m    348\u001b[0m     response[\u001b[38;5;124m\"\u001b[39m\u001b[38;5;124mvalue\u001b[39m\u001b[38;5;124m\"\u001b[39m] \u001b[38;5;241m=\u001b[39m \u001b[38;5;28mself\u001b[39m\u001b[38;5;241m.\u001b[39m_unwrap_value(response\u001b[38;5;241m.\u001b[39mget(\u001b[38;5;124m\"\u001b[39m\u001b[38;5;124mvalue\u001b[39m\u001b[38;5;124m\"\u001b[39m, \u001b[38;5;28;01mNone\u001b[39;00m))\n\u001b[1;32m    349\u001b[0m     \u001b[38;5;28;01mreturn\u001b[39;00m response\n",
      "File \u001b[0;32m~/anaconda3/lib/python3.10/site-packages/selenium/webdriver/remote/errorhandler.py:229\u001b[0m, in \u001b[0;36mErrorHandler.check_response\u001b[0;34m(self, response)\u001b[0m\n\u001b[1;32m    227\u001b[0m         alert_text \u001b[38;5;241m=\u001b[39m value[\u001b[38;5;124m\"\u001b[39m\u001b[38;5;124malert\u001b[39m\u001b[38;5;124m\"\u001b[39m]\u001b[38;5;241m.\u001b[39mget(\u001b[38;5;124m\"\u001b[39m\u001b[38;5;124mtext\u001b[39m\u001b[38;5;124m\"\u001b[39m)\n\u001b[1;32m    228\u001b[0m     \u001b[38;5;28;01mraise\u001b[39;00m exception_class(message, screen, stacktrace, alert_text)  \u001b[38;5;66;03m# type: ignore[call-arg]  # mypy is not smart enough here\u001b[39;00m\n\u001b[0;32m--> 229\u001b[0m \u001b[38;5;28;01mraise\u001b[39;00m exception_class(message, screen, stacktrace)\n",
      "\u001b[0;31mTimeoutException\u001b[0m: Message: script timeout\n  (Session info: chrome=119.0.6045.159)\nStacktrace:\n0   chromedriver                        0x000000010bb88d28 chromedriver + 4795688\n1   chromedriver                        0x000000010bb802b3 chromedriver + 4760243\n2   chromedriver                        0x000000010b7596bd chromedriver + 407229\n3   chromedriver                        0x000000010b7ec64c chromedriver + 1009228\n4   chromedriver                        0x000000010b7cfca2 chromedriver + 892066\n5   chromedriver                        0x000000010b7ebb2b chromedriver + 1006379\n6   chromedriver                        0x000000010b7cfa73 chromedriver + 891507\n7   chromedriver                        0x000000010b79a143 chromedriver + 672067\n8   chromedriver                        0x000000010b79b31e chromedriver + 676638\n9   chromedriver                        0x000000010bb49795 chromedriver + 4536213\n10  chromedriver                        0x000000010bb4e853 chromedriver + 4556883\n11  chromedriver                        0x000000010bb2f001 chromedriver + 4427777\n12  chromedriver                        0x000000010bb4f59d chromedriver + 4560285\n13  chromedriver                        0x000000010bb2048c chromedriver + 4367500\n14  chromedriver                        0x000000010bb6f0e8 chromedriver + 4690152\n15  chromedriver                        0x000000010bb6f29e chromedriver + 4690590\n16  chromedriver                        0x000000010bb7feee chromedriver + 4759278\n17  libsystem_pthread.dylib             0x00007ff81c51c4e1 _pthread_start + 125\n18  libsystem_pthread.dylib             0x00007ff81c517f6b thread_start + 15\n"
     ]
    }
   ],
   "source": [
    "prev_height = -1\n",
    "max_scrolls = 3000\n",
    "scroll_count = 0\n",
    "\n",
    "while scroll_count < max_scrolls:\n",
    "    driver.execute_script(\"window.scrollTo(0, document.body.scrollHeight);\")\n",
    "    time.sleep(5)  # give some time for new results to load\n",
    "    new_height = driver.execute_script(\"return document.body.scrollHeight\")\n",
    "    if new_height == prev_height:\n",
    "        break\n",
    "    prev_height = new_height\n",
    "    scroll_count += 1"
   ]
  },
  {
   "cell_type": "code",
   "execution_count": 563,
   "id": "ea082435",
   "metadata": {},
   "outputs": [],
   "source": [
    "content = driver.page_source\n",
    "soup = bs(content)"
   ]
  },
  {
   "cell_type": "markdown",
   "id": "87be29cd",
   "metadata": {},
   "source": [
    "### Title"
   ]
  },
  {
   "cell_type": "code",
   "execution_count": 564,
   "id": "4761d65d",
   "metadata": {},
   "outputs": [],
   "source": [
    "Title=[]\n",
    "\n",
    "names = soup.find_all(\"h2\",class_='mb-srp__card--title')\n",
    "for i in names:\n",
    "    name=i.text\n",
    "    Title.append(name)"
   ]
  },
  {
   "cell_type": "code",
   "execution_count": 565,
   "id": "fb5b6fcb",
   "metadata": {},
   "outputs": [
    {
     "name": "stdout",
     "output_type": "stream",
     "text": [
      "1500\n"
     ]
    }
   ],
   "source": [
    "print(len(Title))\n",
    "#print(Title)"
   ]
  },
  {
   "cell_type": "markdown",
   "id": "7d741231",
   "metadata": {},
   "source": [
    "### Price"
   ]
  },
  {
   "cell_type": "code",
   "execution_count": 566,
   "id": "15699d08",
   "metadata": {},
   "outputs": [],
   "source": [
    "Price=[]\n",
    "\n",
    "prices = soup.find_all(\"div\",class_='mb-srp__card__price--amount')\n",
    "for i in prices:\n",
    "    name = i.text\n",
    "    Price.append(name)"
   ]
  },
  {
   "cell_type": "markdown",
   "id": "a0302a61",
   "metadata": {},
   "source": [
    "### Carpet and Super Area"
   ]
  },
  {
   "cell_type": "code",
   "execution_count": 567,
   "id": "f02aef36",
   "metadata": {},
   "outputs": [],
   "source": [
    "carpet_area=[]\n",
    "super_area=[]\n",
    "\n",
    "summary = soup.find_all(\"div\",class_='mb-srp__card__summary__list')\n",
    "for a in summary:\n",
    "    carpet=a.find('div',attrs={'data-summary':'carpet-area'})\n",
    "    super_a=a.find('div',attrs={'data-summary':'super-area'}) \n",
    "    \n",
    "    if carpet is not None:\n",
    "        carpet_area.append(carpet.text)\n",
    "    else:\n",
    "        carpet_area.append(np.nan)\n",
    "        \n",
    "    if super_a is not None:\n",
    "        super_area.append(super_a.text)\n",
    "    else:\n",
    "        super_area.append(np.nan)"
   ]
  },
  {
   "cell_type": "code",
   "execution_count": 568,
   "id": "ea60a91c",
   "metadata": {},
   "outputs": [
    {
     "name": "stdout",
     "output_type": "stream",
     "text": [
      "1500\n"
     ]
    }
   ],
   "source": [
    "print(len(carpet_area))\n",
    "#print(carpet_area)"
   ]
  },
  {
   "cell_type": "code",
   "execution_count": 569,
   "id": "fa4805c1",
   "metadata": {},
   "outputs": [
    {
     "name": "stdout",
     "output_type": "stream",
     "text": [
      "1500\n"
     ]
    }
   ],
   "source": [
    "print(len(super_area))\n",
    "#print(super_area)"
   ]
  },
  {
   "cell_type": "markdown",
   "id": "c7d8d382",
   "metadata": {},
   "source": [
    "### Status"
   ]
  },
  {
   "cell_type": "code",
   "execution_count": 570,
   "id": "b8f36369",
   "metadata": {},
   "outputs": [],
   "source": [
    "Status=[]\n",
    "summary = soup.find_all(\"div\",class_='mb-srp__card__summary__list')\n",
    "for a in summary:\n",
    "    status=a.find('div',attrs={'data-summary':'status'})\n",
    "     \n",
    "    if status is not None:\n",
    "        Status.append(status.text)\n",
    "    else:\n",
    "        Status.append(np.nan)"
   ]
  },
  {
   "cell_type": "code",
   "execution_count": 571,
   "id": "9f5cc59b",
   "metadata": {},
   "outputs": [
    {
     "name": "stdout",
     "output_type": "stream",
     "text": [
      "1500\n"
     ]
    }
   ],
   "source": [
    "print(len(Status))\n",
    "#print(Status)"
   ]
  },
  {
   "cell_type": "markdown",
   "id": "89b23950",
   "metadata": {},
   "source": [
    "### Floor No."
   ]
  },
  {
   "cell_type": "code",
   "execution_count": 572,
   "id": "14ab291c",
   "metadata": {},
   "outputs": [],
   "source": [
    "Floor_No=[]\n",
    "\n",
    "summary = soup.find_all(\"div\",class_='mb-srp__card__summary__list')\n",
    "for a in summary:\n",
    "    floor=a.find_all('div',attrs={'data-summary':'floor'})\n",
    "    for i in floor:\n",
    "        fl=i.find('div',class_=\"mb-srp__card__summary--value\")\n",
    "                     \n",
    "    if floor is not None:\n",
    "        Floor_No.append(fl.text)\n",
    "    else:\n",
    "        Floor_No.append(np.nan)\n"
   ]
  },
  {
   "cell_type": "code",
   "execution_count": 573,
   "id": "ea1bb5c8",
   "metadata": {},
   "outputs": [
    {
     "name": "stdout",
     "output_type": "stream",
     "text": [
      "1500\n"
     ]
    }
   ],
   "source": [
    "print(len(Floor_No))\n",
    "#print(Floor_No)"
   ]
  },
  {
   "cell_type": "markdown",
   "id": "87fa35d1",
   "metadata": {},
   "source": [
    "### Transaction"
   ]
  },
  {
   "cell_type": "code",
   "execution_count": 574,
   "id": "675d4d28",
   "metadata": {},
   "outputs": [],
   "source": [
    "Transaction=[]\n",
    "\n",
    "summary = soup.find_all(\"div\",class_='mb-srp__card__summary__list')\n",
    "for a in summary:\n",
    "    floor=a.find_all('div',attrs={'data-summary':'transaction'})\n",
    "    for i in floor:\n",
    "        fl=i.find('div',class_=\"mb-srp__card__summary--value\")\n",
    "                     \n",
    "    if floor is not None:\n",
    "        Transaction.append(fl.text)\n",
    "    else:\n",
    "        Transaction.append(np.nan)"
   ]
  },
  {
   "cell_type": "code",
   "execution_count": 575,
   "id": "7d982b6e",
   "metadata": {},
   "outputs": [
    {
     "name": "stdout",
     "output_type": "stream",
     "text": [
      "1500\n"
     ]
    }
   ],
   "source": [
    "print(len(Transaction))\n",
    "#print(Transaction)"
   ]
  },
  {
   "cell_type": "markdown",
   "id": "ff566632",
   "metadata": {},
   "source": [
    "### Furnishing"
   ]
  },
  {
   "cell_type": "code",
   "execution_count": 576,
   "id": "9dac88f6",
   "metadata": {},
   "outputs": [],
   "source": [
    "Furnishing=[]\n",
    "summary = soup.find_all(\"div\",class_='mb-srp__card__summary__list')\n",
    "for a in summary:\n",
    "    floor=a.find_all('div',attrs={'data-summary':'furnishing'})\n",
    "    for i in floor:\n",
    "        fl=i.find('div',class_=\"mb-srp__card__summary--value\")\n",
    "                     \n",
    "    if floor is not None:\n",
    "        Furnishing.append(fl.text)\n",
    "    else:\n",
    "        Furnishing.append(np.nan)"
   ]
  },
  {
   "cell_type": "code",
   "execution_count": 577,
   "id": "995b6ede",
   "metadata": {},
   "outputs": [
    {
     "name": "stdout",
     "output_type": "stream",
     "text": [
      "1500\n"
     ]
    }
   ],
   "source": [
    "print(len(Furnishing))\n",
    "#print(Furnishing)"
   ]
  },
  {
   "cell_type": "markdown",
   "id": "6eca0ac9",
   "metadata": {},
   "source": [
    "### Facing"
   ]
  },
  {
   "cell_type": "code",
   "execution_count": 578,
   "id": "6b00b859",
   "metadata": {},
   "outputs": [],
   "source": [
    "Facing=[]\n",
    "summary = soup.find_all(\"div\",class_='mb-srp__card__summary__list')\n",
    "for a in summary:\n",
    "    floor=a.find_all('div',attrs={'data-summary':'facing'})\n",
    "    for i in floor:\n",
    "        fl=i.find('div',class_=\"mb-srp__card__summary--value\")\n",
    "                     \n",
    "    if floor is not None:\n",
    "        Facing.append(fl.text)\n",
    "    else:\n",
    "        Facing.append(np.nan)"
   ]
  },
  {
   "cell_type": "code",
   "execution_count": 579,
   "id": "caae72b2",
   "metadata": {},
   "outputs": [
    {
     "name": "stdout",
     "output_type": "stream",
     "text": [
      "1500\n"
     ]
    }
   ],
   "source": [
    "print(len(Facing))\n",
    "#print(Facing)"
   ]
  },
  {
   "cell_type": "markdown",
   "id": "2bc83e8d",
   "metadata": {},
   "source": [
    "### Car Parking"
   ]
  },
  {
   "cell_type": "code",
   "execution_count": 580,
   "id": "bbc878b0",
   "metadata": {},
   "outputs": [],
   "source": [
    "Car_Parking=[]\n",
    "summary = soup.find_all(\"div\",class_='mb-srp__card__summary__list')\n",
    "for a in summary:\n",
    "    floor=a.find_all('div',attrs={'data-summary':'parking'})\n",
    "    for i in floor:\n",
    "        fl=i.find('div',class_=\"mb-srp__card__summary--value\")\n",
    "                     \n",
    "    if floor is not None:\n",
    "        Car_Parking.append(fl.text)\n",
    "    else:\n",
    "        Car_Parking.append(np.nan)"
   ]
  },
  {
   "cell_type": "code",
   "execution_count": 581,
   "id": "01e9fdd1",
   "metadata": {},
   "outputs": [
    {
     "name": "stdout",
     "output_type": "stream",
     "text": [
      "1500\n"
     ]
    }
   ],
   "source": [
    "print(len(Car_Parking))\n",
    "#print(Car_Parking)"
   ]
  },
  {
   "cell_type": "markdown",
   "id": "4409ca82",
   "metadata": {},
   "source": [
    "### Bathroom"
   ]
  },
  {
   "cell_type": "code",
   "execution_count": 582,
   "id": "5d4d1157",
   "metadata": {},
   "outputs": [],
   "source": [
    "Bathroom=[]\n",
    "summary = soup.find_all(\"div\",class_='mb-srp__card__summary__list')\n",
    "for a in summary:\n",
    "    floor=a.find_all('div',attrs={'data-summary':'bathroom'})\n",
    "    for i in floor:\n",
    "        fl=i.find('div',class_=\"mb-srp__card__summary--value\")\n",
    "                     \n",
    "    if floor is not None:\n",
    "        Bathroom.append(fl.text)\n",
    "    else:\n",
    "        Bathroom.append(np.nan)"
   ]
  },
  {
   "cell_type": "code",
   "execution_count": 1,
   "id": "d78184d7",
   "metadata": {},
   "outputs": [
    {
     "ename": "NameError",
     "evalue": "name 'Bathroom' is not defined",
     "output_type": "error",
     "traceback": [
      "\u001b[0;31m---------------------------------------------------------------------------\u001b[0m",
      "\u001b[0;31mNameError\u001b[0m                                 Traceback (most recent call last)",
      "Cell \u001b[0;32mIn[1], line 1\u001b[0m\n\u001b[0;32m----> 1\u001b[0m \u001b[38;5;28mprint\u001b[39m(\u001b[38;5;28mlen\u001b[39m(\u001b[43mBathroom\u001b[49m))\n",
      "\u001b[0;31mNameError\u001b[0m: name 'Bathroom' is not defined"
     ]
    }
   ],
   "source": [
    "print(len(Bathroom))\n",
    "#print(Bathroom)"
   ]
  },
  {
   "cell_type": "markdown",
   "id": "dbf2c9c2",
   "metadata": {},
   "source": [
    "### Overlooking"
   ]
  },
  {
   "cell_type": "code",
   "execution_count": 584,
   "id": "31878924",
   "metadata": {},
   "outputs": [],
   "source": [
    "Overlooking=[]\n",
    "summary = soup.find_all(\"div\",class_='mb-srp__card__summary__list')\n",
    "for a in summary:\n",
    "    floor=a.find_all('div',attrs={'data-summary':'overlooking'})\n",
    "    for i in floor:\n",
    "        fl=i.find('div',class_=\"mb-srp__card__summary--value\")\n",
    "                     \n",
    "    if floor is not None:\n",
    "        Overlooking.append(fl.text)\n",
    "    else:\n",
    "        Overlooking.append(np.nan)"
   ]
  },
  {
   "cell_type": "code",
   "execution_count": 585,
   "id": "defcd7cc",
   "metadata": {},
   "outputs": [
    {
     "name": "stdout",
     "output_type": "stream",
     "text": [
      "1500\n"
     ]
    }
   ],
   "source": [
    "print(len(Overlooking))\n",
    "#print(Overlooking)"
   ]
  },
  {
   "cell_type": "markdown",
   "id": "42a90fa8",
   "metadata": {},
   "source": [
    "### Ownership"
   ]
  },
  {
   "cell_type": "code",
   "execution_count": 586,
   "id": "109c688f",
   "metadata": {},
   "outputs": [],
   "source": [
    "Ownership=[]\n",
    "summary = soup.find_all(\"div\",class_='mb-srp__card__summary__list')\n",
    "for a in summary:\n",
    "    floor=a.find_all('div',attrs={'data-summary':'ownership'})\n",
    "    for i in floor:\n",
    "        fl=i.find('div',class_=\"mb-srp__card__summary--value\")\n",
    "                     \n",
    "    if floor is not None:\n",
    "        Ownership.append(fl.text)\n",
    "    else:\n",
    "        Ownership.append(np.nan)"
   ]
  },
  {
   "cell_type": "code",
   "execution_count": 587,
   "id": "cfb5c067",
   "metadata": {},
   "outputs": [
    {
     "name": "stdout",
     "output_type": "stream",
     "text": [
      "1500\n"
     ]
    }
   ],
   "source": [
    "print(len(Ownership))\n",
    "#print(Ownership)"
   ]
  },
  {
   "cell_type": "markdown",
   "id": "b0a7cbfd",
   "metadata": {},
   "source": [
    "### Balcony"
   ]
  },
  {
   "cell_type": "code",
   "execution_count": 588,
   "id": "d5c73beb",
   "metadata": {},
   "outputs": [],
   "source": [
    "Balcony=[]\n",
    "summary = soup.find_all(\"div\",class_='mb-srp__card__summary__list')\n",
    "for a in summary:\n",
    "    balcony=a.find_all('div',attrs={'data-summary':'balcony'})\n",
    "    for i in balcony:\n",
    "        bal=i.find('div',class_='mb-srp__card__summary--value')\n",
    "     \n",
    "    if balcony is not None:\n",
    "        Balcony.append(bal.text)\n",
    "    else:\n",
    "        Balcony.append(np.nan)"
   ]
  },
  {
   "cell_type": "code",
   "execution_count": 589,
   "id": "37ecf959",
   "metadata": {},
   "outputs": [
    {
     "name": "stdout",
     "output_type": "stream",
     "text": [
      "1500\n"
     ]
    }
   ],
   "source": [
    "print(len(Balcony))\n",
    "#print(Balcony)"
   ]
  },
  {
   "cell_type": "markdown",
   "id": "22268e12",
   "metadata": {},
   "source": [
    "### Rate per Sqft"
   ]
  },
  {
   "cell_type": "code",
   "execution_count": 590,
   "id": "e48182f1",
   "metadata": {},
   "outputs": [],
   "source": [
    "Rate=[]\n",
    "rate = soup.find_all(\"div\",class_='mb-srp__card__price')\n",
    "for i in rate:\n",
    "    name = i.find(\"div\",class_='mb-srp__card__price--size')\n",
    "    if name is not None:\n",
    "        Rate.append(name.text)\n",
    "    else:\n",
    "        Rate.append(np.nan)"
   ]
  },
  {
   "cell_type": "code",
   "execution_count": 591,
   "id": "a733b61c",
   "metadata": {},
   "outputs": [
    {
     "name": "stdout",
     "output_type": "stream",
     "text": [
      "1500\n"
     ]
    }
   ],
   "source": [
    "print(len(Rate))\n",
    "#print(Rate)"
   ]
  },
  {
   "cell_type": "markdown",
   "id": "0130de0a",
   "metadata": {},
   "source": [
    "### Society Name"
   ]
  },
  {
   "cell_type": "code",
   "execution_count": 592,
   "id": "0fbb74cb",
   "metadata": {},
   "outputs": [],
   "source": [
    "Society=[]\n",
    "summary = soup.find_all(\"div\",class_='mb-srp__card__summary__list')\n",
    "for a in summary:\n",
    "    society=a.find_all('div',attrs={'data-summary':'society'})\n",
    "    for i in society:\n",
    "        bal=i.find('div',class_='mb-srp__card__summary--value')\n",
    "      \n",
    "    if society is not None:\n",
    "        Society.append(bal.text)\n",
    "    else:\n",
    "        Society.append(np.nan)"
   ]
  },
  {
   "cell_type": "code",
   "execution_count": 593,
   "id": "ef8f6d37",
   "metadata": {},
   "outputs": [
    {
     "name": "stdout",
     "output_type": "stream",
     "text": [
      "1500\n"
     ]
    }
   ],
   "source": [
    "print(len(Society))\n",
    "#print(Society)"
   ]
  },
  {
   "cell_type": "markdown",
   "id": "21725451",
   "metadata": {},
   "source": [
    "### Page Link"
   ]
  },
  {
   "cell_type": "code",
   "execution_count": 594,
   "id": "71419986",
   "metadata": {},
   "outputs": [],
   "source": [
    "Page_link=[]\n",
    "\n",
    "names = soup.find_all(\"div\",class_=\"mb-srp__list\")\n",
    "for i in names:\n",
    "    name=i.find(\"a\",class_='mb-srp__card__society--name')\n",
    "    if name is not None:\n",
    "        link=name.get(\"href\")\n",
    "        Page_link.append(link)\n",
    "    else:\n",
    "        Page_link.append(np.nan)\n",
    "  "
   ]
  },
  {
   "cell_type": "code",
   "execution_count": 595,
   "id": "753a9344",
   "metadata": {},
   "outputs": [
    {
     "name": "stdout",
     "output_type": "stream",
     "text": [
      "1500\n"
     ]
    }
   ],
   "source": [
    "print(len(Page_link))\n",
    "#print(Page_link)"
   ]
  },
  {
   "cell_type": "code",
   "execution_count": 596,
   "id": "38975aef",
   "metadata": {},
   "outputs": [],
   "source": [
    "Page_link1=[]\n",
    "\n",
    "names = soup.find_all(\"div\",class_=\"mb-srp__list\")\n",
    "for i in names:\n",
    "    name=i.find(\"a\",class_='mb-srp__card__developer--name')\n",
    "    if name is not None:\n",
    "        link=name.get(\"href\")\n",
    "        Page_link1.append(link)\n",
    "    else:\n",
    "        Page_link1.append(np.nan)\n",
    "        \n",
    "#<a class=\"mb-srp__card__developer--name\" href=\"https://www.magicbricks.com/sunrise-tower-nigdi-pune-pdpid-4d4235333932353635\" target=\"_blank\"><span class=\"mb-srp__card__developer--name--highlight\">Sunrise Tower</span> </a>"
   ]
  },
  {
   "cell_type": "code",
   "execution_count": 597,
   "id": "de18a704",
   "metadata": {},
   "outputs": [
    {
     "name": "stdout",
     "output_type": "stream",
     "text": [
      "1500\n"
     ]
    }
   ],
   "source": [
    "print(len(Page_link1))"
   ]
  },
  {
   "cell_type": "markdown",
   "id": "494e6987",
   "metadata": {},
   "source": [
    "### Posted By"
   ]
  },
  {
   "cell_type": "code",
   "execution_count": 598,
   "id": "3b97b88d",
   "metadata": {},
   "outputs": [],
   "source": [
    "Posted=[]\n",
    "summary = soup.find_all(\"div\",class_=\"mb-srp__card__ads\")\n",
    "for a in summary:\n",
    "    post=a.find('div',class_='mb-srp__card__ads--name')\n",
    "    if post is not None:\n",
    "        Posted.append(post.text)\n",
    "    else:\n",
    "        Posted.append(np.nan)"
   ]
  },
  {
   "cell_type": "code",
   "execution_count": 599,
   "id": "1b97007a",
   "metadata": {},
   "outputs": [
    {
     "name": "stdout",
     "output_type": "stream",
     "text": [
      "1500\n"
     ]
    }
   ],
   "source": [
    "print(len(Posted))\n",
    "#print(Posted)"
   ]
  },
  {
   "cell_type": "code",
   "execution_count": null,
   "id": "2d1d2d94",
   "metadata": {},
   "outputs": [],
   "source": [
    "Builder=[]\n",
    "summary = soup.find_all(\"div\",class_=\"mb-srp__card__ads\")\n",
    "for a in summary:\n",
    "    build=a.find('div',class_='mb-srp__card__ads__info--name')\n",
    "    if build is not None:\n",
    "        Builder.append(build.text)\n",
    "    else:\n",
    "        Builder.append(np.nan)"
   ]
  },
  {
   "cell_type": "code",
   "execution_count": null,
   "id": "945612d4",
   "metadata": {},
   "outputs": [],
   "source": [
    "print(len(Builder))\n",
    "#print(Builder)"
   ]
  },
  {
   "cell_type": "markdown",
   "id": "89f02b66",
   "metadata": {},
   "source": [
    "### Description"
   ]
  },
  {
   "cell_type": "code",
   "execution_count": 600,
   "id": "d3fa9577",
   "metadata": {},
   "outputs": [],
   "source": [
    "Description=[]\n",
    "summary = soup.find_all(\"div\",class_=\"mb-srp__card__container\")\n",
    "for a in summary:\n",
    "    desc=a.find('div',class_='mb-srp__card--desc--text')\n",
    "    if desc is not None:\n",
    "        Description.append(desc.text)\n",
    "    else:\n",
    "        Description.append(np.nan)"
   ]
  },
  {
   "cell_type": "code",
   "execution_count": 601,
   "id": "9b3222b4",
   "metadata": {},
   "outputs": [
    {
     "name": "stdout",
     "output_type": "stream",
     "text": [
      "1500\n"
     ]
    }
   ],
   "source": [
    "print(len(Description))\n",
    "#print(Description)"
   ]
  },
  {
   "cell_type": "code",
   "execution_count": 604,
   "id": "ac51ceff",
   "metadata": {},
   "outputs": [
    {
     "name": "stdout",
     "output_type": "stream",
     "text": [
      "1500\n",
      "1500\n",
      "1500\n",
      "1500\n",
      "1500\n",
      "1500\n",
      "1500\n",
      "1500\n",
      "1500\n",
      "1500\n",
      "1500\n",
      "1500\n",
      "1500\n",
      "1500\n",
      "1500\n",
      "1500\n",
      "1500\n"
     ]
    }
   ],
   "source": [
    "print(len(Title))\n",
    "print(len(Price))\n",
    "print(len(carpet_area))\n",
    "print(len(super_area))\n",
    "print(len(Status))\n",
    "print(len(Floor_No))\n",
    "print(len(Transaction))\n",
    "print(len(Furnishing))\n",
    "print(len(Facing))\n",
    "print(len(Car_Parking))\n",
    "print(len(Bathroom))\n",
    "print(len(Overlooking))\n",
    "print(len(Ownership))\n",
    "print(len(Balcony))\n",
    "print(len(Rate))\n",
    "print(len(Society))\n",
    "print(len(Page_link))"
   ]
  },
  {
   "cell_type": "markdown",
   "id": "e125beb7",
   "metadata": {},
   "source": [
    "#### Creating a dataframe from the data"
   ]
  },
  {
   "cell_type": "code",
   "execution_count": 605,
   "id": "1cea41d2",
   "metadata": {},
   "outputs": [],
   "source": [
    "Data = pd.DataFrame(list(zip(Title,Society,Price,Rate,carpet_area,super_area,Status,Floor_No,\n",
    "                            Transaction,Furnishing,Facing,Car_Parking,Bathroom,Overlooking,Ownership,Balcony\n",
    "                             ,Posted,Builder,Description,Page_link,Page_link1)),columns=['Name','Society','Price','Rate','Carpet Area','Super Area',\n",
    "                                                          'Status','Floor No.','Transaction','Furnishing',\n",
    "                                                          'Facing','Car Parking','Bathroom','Overlooking',\n",
    "                                                          'Ownership','Balcony','Posted By','Posted By2',\n",
    "                                                                                         'Description',\n",
    "                                                                                         'Link','Link1'])"
   ]
  },
  {
   "cell_type": "code",
   "execution_count": 606,
   "id": "873ff914",
   "metadata": {},
   "outputs": [
    {
     "data": {
      "text/html": [
       "<div>\n",
       "<style scoped>\n",
       "    .dataframe tbody tr th:only-of-type {\n",
       "        vertical-align: middle;\n",
       "    }\n",
       "\n",
       "    .dataframe tbody tr th {\n",
       "        vertical-align: top;\n",
       "    }\n",
       "\n",
       "    .dataframe thead th {\n",
       "        text-align: right;\n",
       "    }\n",
       "</style>\n",
       "<table border=\"1\" class=\"dataframe\">\n",
       "  <thead>\n",
       "    <tr style=\"text-align: right;\">\n",
       "      <th></th>\n",
       "      <th>Name</th>\n",
       "      <th>Society</th>\n",
       "      <th>Price</th>\n",
       "      <th>Rate</th>\n",
       "      <th>Carpet Area</th>\n",
       "      <th>Super Area</th>\n",
       "      <th>Status</th>\n",
       "      <th>Floor No.</th>\n",
       "      <th>Transaction</th>\n",
       "      <th>Furnishing</th>\n",
       "      <th>...</th>\n",
       "      <th>Car Parking</th>\n",
       "      <th>Bathroom</th>\n",
       "      <th>Overlooking</th>\n",
       "      <th>Ownership</th>\n",
       "      <th>Balcony</th>\n",
       "      <th>Posted By</th>\n",
       "      <th>Posted By2</th>\n",
       "      <th>Description</th>\n",
       "      <th>Link</th>\n",
       "      <th>Link1</th>\n",
       "    </tr>\n",
       "  </thead>\n",
       "  <tbody>\n",
       "    <tr>\n",
       "      <th>0</th>\n",
       "      <td>2 BHK Flat  for Sale in Sensorium, Hinjewadi, ...</td>\n",
       "      <td>Sensorium</td>\n",
       "      <td>₹88 Lac</td>\n",
       "      <td>NaN</td>\n",
       "      <td>Carpet Area789 sqft</td>\n",
       "      <td>NaN</td>\n",
       "      <td>Under ConstructionPoss. by Dec '25</td>\n",
       "      <td>8 out of 22</td>\n",
       "      <td>New Property</td>\n",
       "      <td>Unfurnished</td>\n",
       "      <td>...</td>\n",
       "      <td>1 Covered</td>\n",
       "      <td>2</td>\n",
       "      <td>Garden/Park, Pool, Main Road</td>\n",
       "      <td>Freehold</td>\n",
       "      <td>2</td>\n",
       "      <td>NaN</td>\n",
       "      <td>Oracles Homes</td>\n",
       "      <td>Hinjawadi is a discreetly carved, unrivaled pa...</td>\n",
       "      <td>https://www.magicbricks.com/sensorium-hinjewad...</td>\n",
       "      <td>NaN</td>\n",
       "    </tr>\n",
       "    <tr>\n",
       "      <th>1</th>\n",
       "      <td>3 BHK Flat  for Sale in Hinjewadi, Pune</td>\n",
       "      <td>Sensorium</td>\n",
       "      <td>₹1.03 Cr</td>\n",
       "      <td>NaN</td>\n",
       "      <td>Carpet Area975 sqft</td>\n",
       "      <td>NaN</td>\n",
       "      <td>Under ConstructionPoss. by Dec '25</td>\n",
       "      <td>11 out of 21</td>\n",
       "      <td>New Property</td>\n",
       "      <td>Semi-Furnished</td>\n",
       "      <td>...</td>\n",
       "      <td>1 Covered</td>\n",
       "      <td>3</td>\n",
       "      <td>Garden/Park, Pool, Main Road</td>\n",
       "      <td>Freehold</td>\n",
       "      <td>3</td>\n",
       "      <td>NaN</td>\n",
       "      <td>Oracles Homes</td>\n",
       "      <td>Come home to a lush lifestyle with 400Godrej b...</td>\n",
       "      <td>NaN</td>\n",
       "      <td>NaN</td>\n",
       "    </tr>\n",
       "    <tr>\n",
       "      <th>2</th>\n",
       "      <td>2 BHK Flat  for Sale in Rahul Aston, Hinjewadi...</td>\n",
       "      <td>Rahul Aston</td>\n",
       "      <td>₹81 Lac</td>\n",
       "      <td>₹7,714 per sqft</td>\n",
       "      <td>Carpet Area799 sqft</td>\n",
       "      <td>NaN</td>\n",
       "      <td>Under ConstructionPoss. by Sep '24</td>\n",
       "      <td>15 out of 22</td>\n",
       "      <td>New Property</td>\n",
       "      <td>Unfurnished</td>\n",
       "      <td>...</td>\n",
       "      <td>1 Covered</td>\n",
       "      <td>2</td>\n",
       "      <td>Garden/Park, Pool</td>\n",
       "      <td>Freehold</td>\n",
       "      <td>3</td>\n",
       "      <td>NaN</td>\n",
       "      <td>SK Square Properties</td>\n",
       "      <td>At Rahul Aston, the various facets of the idea...</td>\n",
       "      <td>https://www.magicbricks.com/rahul-aston-hinjew...</td>\n",
       "      <td>NaN</td>\n",
       "    </tr>\n",
       "    <tr>\n",
       "      <th>3</th>\n",
       "      <td>3 BHK Flat  for Sale in Lodha Panache, Hinjewa...</td>\n",
       "      <td>Lodha Panache</td>\n",
       "      <td>₹1.38 Cr</td>\n",
       "      <td>₹8,364 per sqft</td>\n",
       "      <td>Carpet Area1122 sqft</td>\n",
       "      <td>NaN</td>\n",
       "      <td>Under ConstructionPoss. by Jan '26</td>\n",
       "      <td>19 out of 25</td>\n",
       "      <td>New Property</td>\n",
       "      <td>Unfurnished</td>\n",
       "      <td>...</td>\n",
       "      <td>2 Covered</td>\n",
       "      <td>3</td>\n",
       "      <td>Garden/Park, Pool, Main Road</td>\n",
       "      <td>Freehold</td>\n",
       "      <td>1</td>\n",
       "      <td>NaN</td>\n",
       "      <td>Ram Jadhav</td>\n",
       "      <td>Land parcel 10.5 acres Total towers 7 Elevatio...</td>\n",
       "      <td>https://www.magicbricks.com/lodha-panache-hinj...</td>\n",
       "      <td>NaN</td>\n",
       "    </tr>\n",
       "    <tr>\n",
       "      <th>4</th>\n",
       "      <td>2 BHK Flat  for Sale in Kasturi Eon Homes, Hin...</td>\n",
       "      <td>Kasturi Eon Homes</td>\n",
       "      <td>₹86 Lac</td>\n",
       "      <td>₹7,890 per sqft</td>\n",
       "      <td>Carpet Area839 sqft</td>\n",
       "      <td>NaN</td>\n",
       "      <td>Under ConstructionPoss. by Dec '25</td>\n",
       "      <td>5 out of 18</td>\n",
       "      <td>New Property</td>\n",
       "      <td>Unfurnished</td>\n",
       "      <td>...</td>\n",
       "      <td>1 Covered</td>\n",
       "      <td>2</td>\n",
       "      <td>Garden/Park</td>\n",
       "      <td>Freehold</td>\n",
       "      <td>2</td>\n",
       "      <td>NaN</td>\n",
       "      <td>Vantage Properties</td>\n",
       "      <td>LIVING  DININGLarge attached sit out balconyPo...</td>\n",
       "      <td>https://www.magicbricks.com/kasturi-eon-homes-...</td>\n",
       "      <td>NaN</td>\n",
       "    </tr>\n",
       "  </tbody>\n",
       "</table>\n",
       "<p>5 rows × 21 columns</p>\n",
       "</div>"
      ],
      "text/plain": [
       "                                                Name            Society  \\\n",
       "0  2 BHK Flat  for Sale in Sensorium, Hinjewadi, ...          Sensorium   \n",
       "1            3 BHK Flat  for Sale in Hinjewadi, Pune          Sensorium   \n",
       "2  2 BHK Flat  for Sale in Rahul Aston, Hinjewadi...        Rahul Aston   \n",
       "3  3 BHK Flat  for Sale in Lodha Panache, Hinjewa...      Lodha Panache   \n",
       "4  2 BHK Flat  for Sale in Kasturi Eon Homes, Hin...  Kasturi Eon Homes   \n",
       "\n",
       "       Price              Rate           Carpet Area Super Area  \\\n",
       "0   ₹88 Lac                NaN   Carpet Area789 sqft        NaN   \n",
       "1  ₹1.03 Cr                NaN   Carpet Area975 sqft        NaN   \n",
       "2   ₹81 Lac   ₹7,714 per sqft    Carpet Area799 sqft        NaN   \n",
       "3  ₹1.38 Cr   ₹8,364 per sqft   Carpet Area1122 sqft        NaN   \n",
       "4   ₹86 Lac   ₹7,890 per sqft    Carpet Area839 sqft        NaN   \n",
       "\n",
       "                               Status     Floor No.   Transaction  \\\n",
       "0  Under ConstructionPoss. by Dec '25   8 out of 22  New Property   \n",
       "1  Under ConstructionPoss. by Dec '25  11 out of 21  New Property   \n",
       "2  Under ConstructionPoss. by Sep '24  15 out of 22  New Property   \n",
       "3  Under ConstructionPoss. by Jan '26  19 out of 25  New Property   \n",
       "4  Under ConstructionPoss. by Dec '25   5 out of 18  New Property   \n",
       "\n",
       "       Furnishing  ... Car Parking Bathroom                   Overlooking  \\\n",
       "0     Unfurnished  ...   1 Covered        2  Garden/Park, Pool, Main Road   \n",
       "1  Semi-Furnished  ...   1 Covered        3  Garden/Park, Pool, Main Road   \n",
       "2     Unfurnished  ...   1 Covered        2             Garden/Park, Pool   \n",
       "3     Unfurnished  ...   2 Covered        3  Garden/Park, Pool, Main Road   \n",
       "4     Unfurnished  ...   1 Covered        2                   Garden/Park   \n",
       "\n",
       "  Ownership Balcony Posted By            Posted By2  \\\n",
       "0  Freehold       2       NaN         Oracles Homes   \n",
       "1  Freehold       3       NaN         Oracles Homes   \n",
       "2  Freehold       3       NaN  SK Square Properties   \n",
       "3  Freehold       1       NaN            Ram Jadhav   \n",
       "4  Freehold       2       NaN    Vantage Properties   \n",
       "\n",
       "                                         Description  \\\n",
       "0  Hinjawadi is a discreetly carved, unrivaled pa...   \n",
       "1  Come home to a lush lifestyle with 400Godrej b...   \n",
       "2  At Rahul Aston, the various facets of the idea...   \n",
       "3  Land parcel 10.5 acres Total towers 7 Elevatio...   \n",
       "4  LIVING  DININGLarge attached sit out balconyPo...   \n",
       "\n",
       "                                                Link Link1  \n",
       "0  https://www.magicbricks.com/sensorium-hinjewad...   NaN  \n",
       "1                                                NaN   NaN  \n",
       "2  https://www.magicbricks.com/rahul-aston-hinjew...   NaN  \n",
       "3  https://www.magicbricks.com/lodha-panache-hinj...   NaN  \n",
       "4  https://www.magicbricks.com/kasturi-eon-homes-...   NaN  \n",
       "\n",
       "[5 rows x 21 columns]"
      ]
     },
     "execution_count": 606,
     "metadata": {},
     "output_type": "execute_result"
    }
   ],
   "source": [
    "Data.head()"
   ]
  },
  {
   "cell_type": "code",
   "execution_count": 607,
   "id": "5713373d",
   "metadata": {},
   "outputs": [],
   "source": [
    "Data['link3'] = Data['Link'].fillna(Data['Link1'])"
   ]
  },
  {
   "cell_type": "code",
   "execution_count": 608,
   "id": "0f4fabe6",
   "metadata": {},
   "outputs": [
    {
     "data": {
      "text/plain": [
       "(1500, 22)"
      ]
     },
     "execution_count": 608,
     "metadata": {},
     "output_type": "execute_result"
    }
   ],
   "source": [
    "Data.shape"
   ]
  },
  {
   "cell_type": "code",
   "execution_count": 609,
   "id": "0796f6bc",
   "metadata": {},
   "outputs": [
    {
     "data": {
      "text/html": [
       "<div>\n",
       "<style scoped>\n",
       "    .dataframe tbody tr th:only-of-type {\n",
       "        vertical-align: middle;\n",
       "    }\n",
       "\n",
       "    .dataframe tbody tr th {\n",
       "        vertical-align: top;\n",
       "    }\n",
       "\n",
       "    .dataframe thead th {\n",
       "        text-align: right;\n",
       "    }\n",
       "</style>\n",
       "<table border=\"1\" class=\"dataframe\">\n",
       "  <thead>\n",
       "    <tr style=\"text-align: right;\">\n",
       "      <th></th>\n",
       "      <th>Name</th>\n",
       "      <th>Society</th>\n",
       "      <th>Price</th>\n",
       "      <th>Rate</th>\n",
       "      <th>Carpet Area</th>\n",
       "      <th>Super Area</th>\n",
       "      <th>Status</th>\n",
       "      <th>Floor No.</th>\n",
       "      <th>Transaction</th>\n",
       "      <th>Furnishing</th>\n",
       "      <th>...</th>\n",
       "      <th>Bathroom</th>\n",
       "      <th>Overlooking</th>\n",
       "      <th>Ownership</th>\n",
       "      <th>Balcony</th>\n",
       "      <th>Posted By</th>\n",
       "      <th>Posted By2</th>\n",
       "      <th>Description</th>\n",
       "      <th>Link</th>\n",
       "      <th>Link1</th>\n",
       "      <th>link3</th>\n",
       "    </tr>\n",
       "  </thead>\n",
       "  <tbody>\n",
       "    <tr>\n",
       "      <th>1495</th>\n",
       "      <td>2 BHK Apartment for Sale in Park Titan, Marunj...</td>\n",
       "      <td>Park Titan</td>\n",
       "      <td>₹78 Lac</td>\n",
       "      <td>₹7,104 per sqft</td>\n",
       "      <td>Carpet Area768 sqft</td>\n",
       "      <td>NaN</td>\n",
       "      <td>Under ConstructionPoss. by Dec '26</td>\n",
       "      <td>9 out of 22</td>\n",
       "      <td>New Property</td>\n",
       "      <td>Unfurnished</td>\n",
       "      <td>...</td>\n",
       "      <td>2</td>\n",
       "      <td>Garden/Park, Pool, Main Road</td>\n",
       "      <td>Freehold</td>\n",
       "      <td>2</td>\n",
       "      <td>NaN</td>\n",
       "      <td>Realty Essentia</td>\n",
       "      <td>East facing Property, Park Titan is residentia...</td>\n",
       "      <td>https://www.magicbricks.com/park-titan-marunji...</td>\n",
       "      <td>NaN</td>\n",
       "      <td>https://www.magicbricks.com/park-titan-marunji...</td>\n",
       "    </tr>\n",
       "    <tr>\n",
       "      <th>1496</th>\n",
       "      <td>3 BHK Apartment for Sale in VTP Bellissimo, Hi...</td>\n",
       "      <td>VTP Bellissimo</td>\n",
       "      <td>₹1.31 Cr</td>\n",
       "      <td>₹7,920 per sqft</td>\n",
       "      <td>Carpet Area1225 sqft</td>\n",
       "      <td>NaN</td>\n",
       "      <td>Under ConstructionPoss. by Mar '26</td>\n",
       "      <td>24 out of 26</td>\n",
       "      <td>New Property</td>\n",
       "      <td>Unfurnished</td>\n",
       "      <td>...</td>\n",
       "      <td>3</td>\n",
       "      <td>Garden/Park</td>\n",
       "      <td>Freehold</td>\n",
       "      <td>1</td>\n",
       "      <td>NaN</td>\n",
       "      <td>Prop Engine Realtech LLP</td>\n",
       "      <td>Bellissimo in Hinjewadi, one of the upcoming u...</td>\n",
       "      <td>https://www.magicbricks.com/vtp-bellissimo-hin...</td>\n",
       "      <td>NaN</td>\n",
       "      <td>https://www.magicbricks.com/vtp-bellissimo-hin...</td>\n",
       "    </tr>\n",
       "    <tr>\n",
       "      <th>1497</th>\n",
       "      <td>2 BHK Builder Floor for Sale in Saheel ITrend ...</td>\n",
       "      <td>Saheel ITrend Homes</td>\n",
       "      <td>₹80 Lac</td>\n",
       "      <td>₹7,663 per sqft</td>\n",
       "      <td>Carpet Area774 sqft</td>\n",
       "      <td>NaN</td>\n",
       "      <td>Under ConstructionPoss. by Dec '26</td>\n",
       "      <td>5 out of 6</td>\n",
       "      <td>New Property</td>\n",
       "      <td>Unfurnished</td>\n",
       "      <td>...</td>\n",
       "      <td>2</td>\n",
       "      <td>Garden/Park, Pool, Main Road</td>\n",
       "      <td>Co-operative Society</td>\n",
       "      <td>2</td>\n",
       "      <td>NaN</td>\n",
       "      <td>Hind Realty</td>\n",
       "      <td>Meditation Alcoves in Nature  Rejuvenating Sau...</td>\n",
       "      <td>https://www.magicbricks.com/saheel-itrend-home...</td>\n",
       "      <td>NaN</td>\n",
       "      <td>https://www.magicbricks.com/saheel-itrend-home...</td>\n",
       "    </tr>\n",
       "    <tr>\n",
       "      <th>1498</th>\n",
       "      <td>2 BHK Apartment for Sale in Life Republic Sect...</td>\n",
       "      <td>Life Republic Sector R22 Avenue Atmos</td>\n",
       "      <td>₹62 Lac</td>\n",
       "      <td>NaN</td>\n",
       "      <td>Carpet Area730 sqft</td>\n",
       "      <td>NaN</td>\n",
       "      <td>Under ConstructionPoss. by Dec '26</td>\n",
       "      <td>5 out of 6</td>\n",
       "      <td>New Property</td>\n",
       "      <td>Unfurnished</td>\n",
       "      <td>...</td>\n",
       "      <td>2</td>\n",
       "      <td>Garden/Park, Pool, Main Road</td>\n",
       "      <td>Co-operative Society</td>\n",
       "      <td>2</td>\n",
       "      <td>Agent: Corazon homes</td>\n",
       "      <td>NaN</td>\n",
       "      <td>Atmos is a New launch at Life Republic by Kolt...</td>\n",
       "      <td>https://www.magicbricks.com/life-republic-sect...</td>\n",
       "      <td>NaN</td>\n",
       "      <td>https://www.magicbricks.com/life-republic-sect...</td>\n",
       "    </tr>\n",
       "    <tr>\n",
       "      <th>1499</th>\n",
       "      <td>2 BHK Apartment for Sale in 32 Pinewood Drive,...</td>\n",
       "      <td>32 Pinewood Drive</td>\n",
       "      <td>₹68.2 Lac</td>\n",
       "      <td>₹6,214 per sqft</td>\n",
       "      <td>Carpet Area780 sqft</td>\n",
       "      <td>NaN</td>\n",
       "      <td>Under ConstructionPoss. by Dec '24</td>\n",
       "      <td>15 out of 18</td>\n",
       "      <td>New Property</td>\n",
       "      <td>Unfurnished</td>\n",
       "      <td>...</td>\n",
       "      <td>3</td>\n",
       "      <td>Garden/Park, Pool, Main Road</td>\n",
       "      <td>Freehold</td>\n",
       "      <td>2</td>\n",
       "      <td>NaN</td>\n",
       "      <td>Realty Essentia</td>\n",
       "      <td>Property for sale in Hinjewadi, Pune. This pro...</td>\n",
       "      <td>https://www.magicbricks.com/32-pinewood-drive-...</td>\n",
       "      <td>NaN</td>\n",
       "      <td>https://www.magicbricks.com/32-pinewood-drive-...</td>\n",
       "    </tr>\n",
       "  </tbody>\n",
       "</table>\n",
       "<p>5 rows × 22 columns</p>\n",
       "</div>"
      ],
      "text/plain": [
       "                                                   Name  \\\n",
       "1495  2 BHK Apartment for Sale in Park Titan, Marunj...   \n",
       "1496  3 BHK Apartment for Sale in VTP Bellissimo, Hi...   \n",
       "1497  2 BHK Builder Floor for Sale in Saheel ITrend ...   \n",
       "1498  2 BHK Apartment for Sale in Life Republic Sect...   \n",
       "1499  2 BHK Apartment for Sale in 32 Pinewood Drive,...   \n",
       "\n",
       "                                    Society       Price              Rate  \\\n",
       "1495                             Park Titan    ₹78 Lac   ₹7,104 per sqft    \n",
       "1496                         VTP Bellissimo   ₹1.31 Cr   ₹7,920 per sqft    \n",
       "1497                    Saheel ITrend Homes    ₹80 Lac   ₹7,663 per sqft    \n",
       "1498  Life Republic Sector R22 Avenue Atmos    ₹62 Lac                NaN   \n",
       "1499                      32 Pinewood Drive  ₹68.2 Lac   ₹6,214 per sqft    \n",
       "\n",
       "               Carpet Area Super Area                              Status  \\\n",
       "1495   Carpet Area768 sqft        NaN  Under ConstructionPoss. by Dec '26   \n",
       "1496  Carpet Area1225 sqft        NaN  Under ConstructionPoss. by Mar '26   \n",
       "1497   Carpet Area774 sqft        NaN  Under ConstructionPoss. by Dec '26   \n",
       "1498   Carpet Area730 sqft        NaN  Under ConstructionPoss. by Dec '26   \n",
       "1499   Carpet Area780 sqft        NaN  Under ConstructionPoss. by Dec '24   \n",
       "\n",
       "         Floor No.   Transaction   Furnishing  ... Bathroom  \\\n",
       "1495   9 out of 22  New Property  Unfurnished  ...        2   \n",
       "1496  24 out of 26  New Property  Unfurnished  ...        3   \n",
       "1497    5 out of 6  New Property  Unfurnished  ...        2   \n",
       "1498    5 out of 6  New Property  Unfurnished  ...        2   \n",
       "1499  15 out of 18  New Property  Unfurnished  ...        3   \n",
       "\n",
       "                       Overlooking             Ownership Balcony  \\\n",
       "1495  Garden/Park, Pool, Main Road              Freehold       2   \n",
       "1496                   Garden/Park              Freehold       1   \n",
       "1497  Garden/Park, Pool, Main Road  Co-operative Society       2   \n",
       "1498  Garden/Park, Pool, Main Road  Co-operative Society       2   \n",
       "1499  Garden/Park, Pool, Main Road              Freehold       2   \n",
       "\n",
       "                 Posted By                Posted By2  \\\n",
       "1495                   NaN           Realty Essentia   \n",
       "1496                   NaN  Prop Engine Realtech LLP   \n",
       "1497                   NaN               Hind Realty   \n",
       "1498  Agent: Corazon homes                       NaN   \n",
       "1499                   NaN           Realty Essentia   \n",
       "\n",
       "                                            Description  \\\n",
       "1495  East facing Property, Park Titan is residentia...   \n",
       "1496  Bellissimo in Hinjewadi, one of the upcoming u...   \n",
       "1497  Meditation Alcoves in Nature  Rejuvenating Sau...   \n",
       "1498  Atmos is a New launch at Life Republic by Kolt...   \n",
       "1499  Property for sale in Hinjewadi, Pune. This pro...   \n",
       "\n",
       "                                                   Link Link1  \\\n",
       "1495  https://www.magicbricks.com/park-titan-marunji...   NaN   \n",
       "1496  https://www.magicbricks.com/vtp-bellissimo-hin...   NaN   \n",
       "1497  https://www.magicbricks.com/saheel-itrend-home...   NaN   \n",
       "1498  https://www.magicbricks.com/life-republic-sect...   NaN   \n",
       "1499  https://www.magicbricks.com/32-pinewood-drive-...   NaN   \n",
       "\n",
       "                                                  link3  \n",
       "1495  https://www.magicbricks.com/park-titan-marunji...  \n",
       "1496  https://www.magicbricks.com/vtp-bellissimo-hin...  \n",
       "1497  https://www.magicbricks.com/saheel-itrend-home...  \n",
       "1498  https://www.magicbricks.com/life-republic-sect...  \n",
       "1499  https://www.magicbricks.com/32-pinewood-drive-...  \n",
       "\n",
       "[5 rows x 22 columns]"
      ]
     },
     "execution_count": 609,
     "metadata": {},
     "output_type": "execute_result"
    }
   ],
   "source": [
    "Data.tail()"
   ]
  },
  {
   "cell_type": "code",
   "execution_count": 610,
   "id": "36cf791e",
   "metadata": {},
   "outputs": [],
   "source": [
    "Data.to_csv(\"Hinjewadi Magicbricks.csv\")"
   ]
  },
  {
   "cell_type": "code",
   "execution_count": null,
   "id": "b3975127",
   "metadata": {},
   "outputs": [],
   "source": []
  },
  {
   "cell_type": "code",
   "execution_count": null,
   "id": "c3699dba",
   "metadata": {},
   "outputs": [],
   "source": []
  },
  {
   "cell_type": "code",
   "execution_count": null,
   "id": "12e2f00e",
   "metadata": {},
   "outputs": [],
   "source": []
  },
  {
   "cell_type": "code",
   "execution_count": null,
   "id": "d63b6805",
   "metadata": {},
   "outputs": [],
   "source": []
  },
  {
   "cell_type": "code",
   "execution_count": null,
   "id": "4c4e9d51",
   "metadata": {},
   "outputs": [],
   "source": []
  }
 ],
 "metadata": {
  "kernelspec": {
   "display_name": "Python 3 (ipykernel)",
   "language": "python",
   "name": "python3"
  },
  "language_info": {
   "codemirror_mode": {
    "name": "ipython",
    "version": 3
   },
   "file_extension": ".py",
   "mimetype": "text/x-python",
   "name": "python",
   "nbconvert_exporter": "python",
   "pygments_lexer": "ipython3",
   "version": "3.10.9"
  }
 },
 "nbformat": 4,
 "nbformat_minor": 5
}
